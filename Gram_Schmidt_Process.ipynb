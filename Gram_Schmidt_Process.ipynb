{
  "nbformat": 4,
  "nbformat_minor": 0,
  "metadata": {
    "colab": {
      "name": "Gram Schmidt Process.ipynb",
      "provenance": [],
      "authorship_tag": "ABX9TyM8BBnSocf4l5OLdM+8ez1o",
      "include_colab_link": true
    },
    "kernelspec": {
      "name": "python3",
      "display_name": "Python 3"
    },
    "language_info": {
      "name": "python"
    }
  },
  "cells": [
    {
      "cell_type": "markdown",
      "metadata": {
        "id": "view-in-github",
        "colab_type": "text"
      },
      "source": [
        "<a href=\"https://colab.research.google.com/github/ssstraubmuller/Linear-Algebra-Coding-Projects/blob/main/Gram_Schmidt_Process.ipynb\" target=\"_parent\"><img src=\"https://colab.research.google.com/assets/colab-badge.svg\" alt=\"Open In Colab\"/></a>"
      ]
    },
    {
      "cell_type": "code",
      "execution_count": 1,
      "metadata": {
        "id": "AA0XQdhmPv11"
      },
      "outputs": [],
      "source": [
        "import numpy as np\n",
        "from numpy import c_"
      ]
    },
    {
      "cell_type": "code",
      "source": [
        "#  write vectors:\n",
        "r1 = np.array([3, 6, 0])\n",
        "r1\n",
        "# dot product of r1 with itself:\n",
        "r1.dot(r1)"
      ],
      "metadata": {
        "colab": {
          "base_uri": "https://localhost:8080/"
        },
        "id": "q1y71vxTQJmE",
        "outputId": "b1336bc2-998a-47f9-a9b9-cd0e196c0692"
      },
      "execution_count": 8,
      "outputs": [
        {
          "output_type": "execute_result",
          "data": {
            "text/plain": [
              "45"
            ]
          },
          "metadata": {},
          "execution_count": 8
        }
      ]
    },
    {
      "cell_type": "code",
      "source": [
        "np.sqrt(45)"
      ],
      "metadata": {
        "colab": {
          "base_uri": "https://localhost:8080/"
        },
        "id": "1GtkAxYiQdCS",
        "outputId": "c473320e-c748-4a91-ad9d-9f8e1e7d31ee"
      },
      "execution_count": 10,
      "outputs": [
        {
          "output_type": "execute_result",
          "data": {
            "text/plain": [
              "6.708203932499369"
            ]
          },
          "metadata": {},
          "execution_count": 10
        }
      ]
    },
    {
      "cell_type": "code",
      "source": [
        "print(\"This is the square root of 45:\", np.sqrt(45))"
      ],
      "metadata": {
        "colab": {
          "base_uri": "https://localhost:8080/"
        },
        "id": "Wq1YF50qSXYd",
        "outputId": "ca39a987-144b-46ba-c26a-56d366252eac"
      },
      "execution_count": 11,
      "outputs": [
        {
          "output_type": "stream",
          "name": "stdout",
          "text": [
            "This is the square root of 45: 6.708203932499369\n"
          ]
        }
      ]
    },
    {
      "cell_type": "code",
      "source": [
        "# Gram-Schmidt process using the first vector [3, 6, 0]\n",
        "r1 = np.array([3, 6, 0])\n",
        "print(\"our first messy vector is\", r1)\n",
        "\n",
        "# Temporary vector T1\n",
        "T1 = r1\n",
        "print(\"our T1 vector is\", T1)\n",
        "\n",
        "# Find magnitude of T1\n",
        "n1 = np.sqrt(T1.dot(T1))\n",
        "print(\"the size of T1 is |T1| =\", n1)\n",
        "\n",
        "# Renormalize and create u1:\n",
        "u1 = (1/n1) * T1\n",
        "print(\"u1 =\", u1)"
      ],
      "metadata": {
        "colab": {
          "base_uri": "https://localhost:8080/"
        },
        "id": "HL5Fb-iZSqj1",
        "outputId": "9ab48d4b-9bdb-43c9-8587-39fcd8434b2a"
      },
      "execution_count": 18,
      "outputs": [
        {
          "output_type": "stream",
          "name": "stdout",
          "text": [
            "our first messy vector is [3 6 0]\n",
            "our T1 vector is [3 6 0]\n",
            "the size of T1 is |T1| = 6.708203932499369\n",
            "u1 = [0.4472136  0.89442719 0.        ]\n"
          ]
        }
      ]
    },
    {
      "cell_type": "code",
      "source": [
        "# Gram-Schmidt process using the second vector [6, 2, 0]\n",
        "r2= np.array([6, 2, 0])\n",
        "print(\"our second messy vector is\", r2)\n",
        "\n",
        "# Temporary vector T2\n",
        "T2 = r2 - (r2.dot(u1) ) * u1\n",
        "print(\"our T2 vector is\", T2)\n",
        "\n",
        "# Find magnitude of T2\n",
        "n2 = np.sqrt(T2.dot(T2))\n",
        "print(\"the size of T2 is |T2| =\", n2)\n",
        "\n",
        "# Renormalize and create u1:\n",
        "u2 = (1/n2) * T2\n",
        "print(\"u2 =\", u2)"
      ],
      "metadata": {
        "colab": {
          "base_uri": "https://localhost:8080/"
        },
        "id": "GXCr2HiYTCWV",
        "outputId": "2f41c730-5f4e-4574-d266-b7989cb48d5e"
      },
      "execution_count": 28,
      "outputs": [
        {
          "output_type": "stream",
          "name": "stdout",
          "text": [
            "our second messy vector is [6 2 0]\n",
            "our T2 vector is [ 4. -2.  0.]\n",
            "the size of T2 is |T2| = 4.47213595499958\n",
            "u2 = [ 0.89442719 -0.4472136   0.        ]\n"
          ]
        }
      ]
    },
    {
      "cell_type": "code",
      "source": [
        "# Gram-Schmidt process using the third vector [-4, 2, 0]\n",
        "r3= np.array([-4, 2, 0])\n",
        "print(\"our third messy vector is\", r3)\n",
        "\n",
        "# Temporary vector T3\n",
        "T3 = r3 - (r3.dot(u1)*u1) - (r3.dot(u2)*u2)\n",
        "print(\"our T3 vector is\", T3)\n",
        "\n",
        "# Find magnitude of T3\n",
        "n3 = np.sqrt(T3.dot(T3))\n",
        "print(\"the size of T3 is |T3| =\", n3)\n",
        "\n",
        "# Renormalize and create u3:\n",
        "u3 = (1/n3) * T3\n",
        "print(\"u3 =\", u3)"
      ],
      "metadata": {
        "colab": {
          "base_uri": "https://localhost:8080/"
        },
        "id": "WOVRcwoFVWHD",
        "outputId": "68e6a0d8-70f8-412a-86b9-67c96dd76103"
      },
      "execution_count": 38,
      "outputs": [
        {
          "output_type": "stream",
          "name": "stdout",
          "text": [
            "our third messy vector is [-4  2  0]\n",
            "our T3 vector is [-4.4408921e-16 -8.8817842e-16  0.0000000e+00]\n",
            "the size of T3 is |T3| = 9.930136612989092e-16\n",
            "u3 = [-0.4472136  -0.89442719  0.        ]\n"
          ]
        }
      ]
    },
    {
      "cell_type": "code",
      "source": [
        "# Gram-Schmidt process using the third vector [3, -4, 3]\n",
        "r4= np.array([3, -4, 3])\n",
        "print(\"our fourth messy vector is\", r4)\n",
        "\n",
        "# Temporary vector T4\n",
        "T4 = r4 - (r4.dot(u1)*u1) - (r4.dot(u2)*u2)\n",
        "print(\"our T4 vector is\", T4)\n",
        "\n",
        "# Find magnitude of T4\n",
        "n4 = np.sqrt(T4.dot(T4))\n",
        "print(\"the size of T4 is |T4| =\", n4)\n",
        "\n",
        "# Renormalize and create u4:\n",
        "u4 = (1/n4) * T4\n",
        "print(\"u4 =\", u4)"
      ],
      "metadata": {
        "colab": {
          "base_uri": "https://localhost:8080/"
        },
        "id": "hzaDCvBMW47B",
        "outputId": "48e07cff-7ff9-455e-9cbe-b62944433f4a"
      },
      "execution_count": 41,
      "outputs": [
        {
          "output_type": "stream",
          "name": "stdout",
          "text": [
            "our fourth messy vector is [ 3 -4  3]\n",
            "our T4 vector is [4.44089210e-16 1.33226763e-15 3.00000000e+00]\n",
            "the size of T4 is |T4| = 3.0\n",
            "u4 = [1.48029737e-16 4.44089210e-16 1.00000000e+00]\n"
          ]
        }
      ]
    },
    {
      "cell_type": "code",
      "source": [
        ""
      ],
      "metadata": {
        "id": "BZeaZVCiZUd_"
      },
      "execution_count": null,
      "outputs": []
    }
  ]
}